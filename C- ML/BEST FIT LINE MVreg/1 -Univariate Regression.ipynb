{
 "cells": [
  {
   "cell_type": "code",
   "execution_count": 54,
   "metadata": {
    "collapsed": true
   },
   "outputs": [],
   "source": [
    "#Ex 1. BEST FIT LINE - Calling SKlearn linear regression \n",
    "##Univariate Regression"
   ]
  },
  {
   "cell_type": "code",
   "execution_count": 55,
   "metadata": {
    "collapsed": true
   },
   "outputs": [],
   "source": [
    "import numpy as np\n",
    "import matplotlib.pyplot as plt\n",
    "import pandas as pd\n",
    "from sklearn import linear_model"
   ]
  },
  {
   "cell_type": "code",
   "execution_count": 56,
   "metadata": {
    "collapsed": true
   },
   "outputs": [],
   "source": [
    "#reading data\n",
    "data=pd.read_table(\"auto-mpg.data.txt\",header=None, sep=\"\\s+\", names=['mpg','cylinders','displacement','horsepower','weight','acceleration','model_year','origin','car_name'])\n",
    "data.replace('?','0', inplace=True)\n",
    "data=pd.DataFrame(data, columns=['mpg','acceleration'])\n",
    "X=data['acceleration']\n",
    "Y=data['mpg']\n"
   ]
  },
  {
   "cell_type": "code",
   "execution_count": 57,
   "metadata": {},
   "outputs": [
    {
     "data": {
      "text/plain": [
       "0    18.0\n",
       "1    15.0\n",
       "2    18.0\n",
       "3    16.0\n",
       "4    17.0\n",
       "5    15.0\n",
       "6    14.0\n",
       "7    14.0\n",
       "8    14.0\n",
       "9    15.0\n",
       "Name: mpg, dtype: float64"
      ]
     },
     "execution_count": 57,
     "metadata": {},
     "output_type": "execute_result"
    }
   ],
   "source": [
    "Y[:10]"
   ]
  },
  {
   "cell_type": "code",
   "execution_count": 58,
   "metadata": {},
   "outputs": [
    {
     "data": {
      "text/plain": [
       "0    12.0\n",
       "1    11.5\n",
       "2    11.0\n",
       "3    12.0\n",
       "4    10.5\n",
       "5    10.0\n",
       "6     9.0\n",
       "7     8.5\n",
       "8    10.0\n",
       "9     8.5\n",
       "Name: acceleration, dtype: float64"
      ]
     },
     "execution_count": 58,
     "metadata": {},
     "output_type": "execute_result"
    }
   ],
   "source": [
    "X[:10]"
   ]
  },
  {
   "cell_type": "code",
   "execution_count": 59,
   "metadata": {
    "collapsed": true
   },
   "outputs": [],
   "source": [
    "from sklearn.model_selection import train_test_split\n",
    "\n",
    "x_train,x_test,y_train,y_test=train_test_split(X,Y,test_size=0.1, random_state=0)"
   ]
  },
  {
   "cell_type": "code",
   "execution_count": 60,
   "metadata": {},
   "outputs": [
    {
     "name": "stderr",
     "output_type": "stream",
     "text": [
      "c:\\users\\kunwar\\appdata\\local\\programs\\python\\python36\\lib\\site-packages\\ipykernel_launcher.py:1: FutureWarning: reshape is deprecated and will raise in a subsequent release. Please use .values.reshape(...) instead\n",
      "  \"\"\"Entry point for launching an IPython kernel.\n",
      "c:\\users\\kunwar\\appdata\\local\\programs\\python\\python36\\lib\\site-packages\\ipykernel_launcher.py:2: FutureWarning: reshape is deprecated and will raise in a subsequent release. Please use .values.reshape(...) instead\n",
      "  \n",
      "c:\\users\\kunwar\\appdata\\local\\programs\\python\\python36\\lib\\site-packages\\ipykernel_launcher.py:3: FutureWarning: reshape is deprecated and will raise in a subsequent release. Please use .values.reshape(...) instead\n",
      "  This is separate from the ipykernel package so we can avoid doing imports until\n",
      "c:\\users\\kunwar\\appdata\\local\\programs\\python\\python36\\lib\\site-packages\\ipykernel_launcher.py:4: FutureWarning: reshape is deprecated and will raise in a subsequent release. Please use .values.reshape(...) instead\n",
      "  after removing the cwd from sys.path.\n"
     ]
    }
   ],
   "source": [
    "x_train=x_train.reshape(len(x_train),1)\n",
    "y_train=y_train.reshape(len(y_train),1)\n",
    "x_test=x_test.reshape(len(x_test),1)\n",
    "y_test=y_test.reshape(len(y_test),1)\n"
   ]
  },
  {
   "cell_type": "code",
   "execution_count": 61,
   "metadata": {},
   "outputs": [
    {
     "name": "stdout",
     "output_type": "stream",
     "text": [
      "(358, 1) (40, 1) (358, 1) (40, 1)\n"
     ]
    }
   ],
   "source": [
    "print(x_train.shape,x_test.shape,y_train.shape,y_test.shape)"
   ]
  },
  {
   "cell_type": "markdown",
   "metadata": {},
   "source": [
    "Scaling the feature "
   ]
  },
  {
   "cell_type": "code",
   "execution_count": 62,
   "metadata": {
    "collapsed": true
   },
   "outputs": [],
   "source": [
    "\n",
    "from sklearn.preprocessing import StandardScaler\n",
    "scal=StandardScaler()"
   ]
  },
  {
   "cell_type": "code",
   "execution_count": 63,
   "metadata": {},
   "outputs": [
    {
     "data": {
      "text/plain": [
       "array([[-2.37109405],\n",
       "       [-1.46292048],\n",
       "       [-0.19147749],\n",
       "       [-1.09965106],\n",
       "       [-0.59107386],\n",
       "       [-0.55474692],\n",
       "       [ 0.75302302],\n",
       "       [-1.24495883],\n",
       "       [-0.55474692],\n",
       "       [-0.00984277]])"
      ]
     },
     "execution_count": 63,
     "metadata": {},
     "output_type": "execute_result"
    }
   ],
   "source": [
    "#scaling the train data sets\n",
    "x_train=scal.fit_transform(x_train)\n",
    "x_train[:10]\n",
    "#x_train.shape"
   ]
  },
  {
   "cell_type": "code",
   "execution_count": 64,
   "metadata": {},
   "outputs": [
    {
     "data": {
      "text/plain": [
       "array([[-1.07119107],\n",
       "       [ 0.38869454],\n",
       "       [ 0.02372314],\n",
       "       [ 1.30112305],\n",
       "       [-0.15876256],\n",
       "       [ 0.75366595],\n",
       "       [-0.26825398],\n",
       "       [ 1.30112305],\n",
       "       [-2.34859098],\n",
       "       [-1.21717963]])"
      ]
     },
     "execution_count": 64,
     "metadata": {},
     "output_type": "execute_result"
    }
   ],
   "source": [
    "#scaling the test data sets\n",
    "x_test=scal.fit_transform(x_test)\n",
    "x_test[:10]\n",
    "#x_test.shape"
   ]
  },
  {
   "cell_type": "code",
   "execution_count": 65,
   "metadata": {
    "collapsed": true
   },
   "outputs": [],
   "source": [
    "#import the classifier\n",
    "clf=linear_model.LinearRegression()"
   ]
  },
  {
   "cell_type": "code",
   "execution_count": 66,
   "metadata": {},
   "outputs": [
    {
     "data": {
      "text/plain": [
       "LinearRegression(copy_X=True, fit_intercept=True, n_jobs=1, normalize=False)"
      ]
     },
     "execution_count": 66,
     "metadata": {},
     "output_type": "execute_result"
    }
   ],
   "source": [
    "clf.fit(x_train,y_train)"
   ]
  },
  {
   "cell_type": "code",
   "execution_count": 67,
   "metadata": {},
   "outputs": [
    {
     "data": {
      "text/plain": [
       "(array([[ 3.55067503]]), array([ 23.37932961]))"
      ]
     },
     "execution_count": 67,
     "metadata": {},
     "output_type": "execute_result"
    }
   ],
   "source": [
    "clf.coef_,clf.intercept_"
   ]
  },
  {
   "cell_type": "code",
   "execution_count": 68,
   "metadata": {
    "collapsed": true
   },
   "outputs": [],
   "source": [
    "predication=clf.predict(x_test)"
   ]
  },
  {
   "cell_type": "code",
   "execution_count": 69,
   "metadata": {},
   "outputs": [
    {
     "name": "stdout",
     "output_type": "stream",
     "text": [
      "accuracy: -0.135969825056\n"
     ]
    },
    {
     "data": {
      "text/plain": [
       "array([[ 19.57587822],\n",
       "       [ 24.75945762],\n",
       "       [ 23.46356277],\n",
       "       [ 27.99919475],\n",
       "       [ 22.81561535],\n",
       "       [ 26.05535248],\n",
       "       [ 22.42684689],\n",
       "       [ 27.99919475],\n",
       "       [ 15.04024625],\n",
       "       [ 19.05752028],\n",
       "       [ 25.14822608],\n",
       "       [ 23.98192071],\n",
       "       [ 24.1115102 ],\n",
       "       [ 33.18277415],\n",
       "       [ 20.48300462],\n",
       "       [ 21.39013101],\n",
       "       [ 27.86960527],\n",
       "       [ 26.05535248],\n",
       "       [ 24.1115102 ],\n",
       "       [ 21.77889947],\n",
       "       [ 18.53916234],\n",
       "       [ 26.7032999 ],\n",
       "       [ 24.75945762],\n",
       "       [ 21.5197205 ],\n",
       "       [ 22.03807844],\n",
       "       [ 19.05752028],\n",
       "       [ 21.39013101],\n",
       "       [ 26.05535248],\n",
       "       [ 19.44628874],\n",
       "       [ 26.05535248],\n",
       "       [ 26.96247887],\n",
       "       [ 22.16766792],\n",
       "       [ 29.94303703],\n",
       "       [ 24.50027865],\n",
       "       [ 23.2043838 ],\n",
       "       [ 20.22382565],\n",
       "       [ 24.75945762],\n",
       "       [ 22.03807844],\n",
       "       [ 20.87177307],\n",
       "       [ 17.63203595]])"
      ]
     },
     "execution_count": 69,
     "metadata": {},
     "output_type": "execute_result"
    }
   ],
   "source": [
    "print(\"accuracy:\",clf.score(x_test,y_test))\n",
    "clf.predict(x_test)\n"
   ]
  },
  {
   "cell_type": "code",
   "execution_count": 70,
   "metadata": {},
   "outputs": [
    {
     "data": {
      "image/png": "[encoded data removed]",
      "text/plain": [
       "<matplotlib.figure.Figure at 0x2ce4ac4c828>"
      ]
     },
     "metadata": {},
     "output_type": "display_data"
    }
   ],
   "source": [
    "plt.scatter(x_test,y_test)\n",
    "plt.show()\n"
   ]
  },
  {
   "cell_type": "code",
   "execution_count": 71,
   "metadata": {},
   "outputs": [
    {
     "data": {
      "image/png": "[encoded data removed]",
      "text/plain": [
       "<matplotlib.figure.Figure at 0x2ce4ac42c50>"
      ]
     },
     "metadata": {},
     "output_type": "display_data"
    }
   ],
   "source": [
    "plt.scatter(x_test,y_test)\n",
    "plt.plot(x_test,predication,color='blue')\n",
    "plt.show()"
   ]
  },
  {
   "cell_type": "code",
   "execution_count": null,
   "metadata": {
    "collapsed": true
   },
   "outputs": [],
   "source": []
  }
 ],
 "metadata": {
  "kernelspec": {
   "display_name": "Python 3",
   "language": "python",
   "name": "python3"
  },
  "language_info": {
   "codemirror_mode": {
    "name": "ipython",
    "version": 3
   },
   "file_extension": ".py",
   "mimetype": "text/x-python",
   "name": "python",
   "nbconvert_exporter": "python",
   "pygments_lexer": "ipython3",
   "version": "3.6.1"
  }
 },
 "nbformat": 4,
 "nbformat_minor": 2
}
