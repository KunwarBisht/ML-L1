{
 "cells": [
  {
   "cell_type": "code",
   "execution_count": 1,
   "metadata": {
    "collapsed": true
   },
   "outputs": [],
   "source": [
    "##Ex 5. Create a small dictionary file with required set of words\n",
    "#with weightage attached to it with positive and negative numbers.\n",
    "#Create a python script that analyzes the given text file and classify\n",
    "#it as negative or positive sentiment.\n"
   ]
  },
  {
   "cell_type": "code",
   "execution_count": 2,
   "metadata": {
    "collapsed": true
   },
   "outputs": [],
   "source": [
    "#creating dictionary and store score with the word\n",
    "senti_dict={}\n",
    "all_sum=[]\n",
    "#read data\n",
    "for line in open('Pos&neg_words.txt'):\n",
    "    word,score=line.split('\\t')\n",
    "    senti_dict[word]=int(score)\n",
    "\n"
   ]
  },
  {
   "cell_type": "code",
   "execution_count": 5,
   "metadata": {
    "collapsed": true
   },
   "outputs": [],
   "source": [
    "read_words=open('NLPdataEx5data_senti_analyze.txt')\n",
    "all_words=[]\n",
    "for w in read_words:\n",
    "    all_words +=w.split(' ') \n"
   ]
  },
  {
   "cell_type": "code",
   "execution_count": 6,
   "metadata": {},
   "outputs": [
    {
     "name": "stdout",
     "output_type": "stream",
     "text": [
      "The  sentiment is : -1\n"
     ]
    }
   ],
   "source": [
    "all_sum =sum(senti_dict.get(wo,0)for wo in all_words)\n",
    "#print the sentiment score \n",
    "print(\"The  sentiment is : {}\".format(all_sum))"
   ]
  },
  {
   "cell_type": "code",
   "execution_count": null,
   "metadata": {
    "collapsed": true
   },
   "outputs": [],
   "source": []
  }
 ],
 "metadata": {
  "kernelspec": {
   "display_name": "Python 3",
   "language": "python",
   "name": "python3"
  },
  "language_info": {
   "codemirror_mode": {
    "name": "ipython",
    "version": 3
   },
   "file_extension": ".py",
   "mimetype": "text/x-python",
   "name": "python",
   "nbconvert_exporter": "python",
   "pygments_lexer": "ipython3",
   "version": "3.6.1"
  }
 },
 "nbformat": 4,
 "nbformat_minor": 2
}
