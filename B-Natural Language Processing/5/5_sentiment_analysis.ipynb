{
 "cells": [
  {
   "cell_type": "code",
   "execution_count": 1,
   "metadata": {
    "collapsed": true
   },
   "outputs": [],
   "source": [
    "##Ex 5. Create a small dictionary file with required set of words\n",
    "#with weightage attached to it with positive and negative numbers.\n",
    "#Create a python script that analyzes the given text file and classify\n",
    "#it as negative or positive sentiment.\n"
   ]
  },
  {
   "cell_type": "code",
   "execution_count": 4,
   "metadata": {
    "collapsed": true
   },
   "outputs": [],
   "source": [
    "#creating dictionary and store score with the word\n",
    "senti_dict={}\n",
    "all_sum=[]\n",
    "#read data\n",
    "for line in open('Pos&neg_words.txt'):\n",
    "    word,score=line.split('\\t')\n",
    "    senti_dict[word]=int(score)\n",
    "\n"
   ]
  },
  {
   "cell_type": "code",
   "execution_count": 5,
   "metadata": {},
   "outputs": [
    {
     "data": {
      "text/plain": [
       "{'annoy': -1,\n",
       " 'annoyed': -1,\n",
       " 'annoyingly': -2,\n",
       " 'awesome': 2,\n",
       " 'beautiful': 1,\n",
       " 'beautifully': 1,\n",
       " 'beauty': 1,\n",
       " 'best': 1,\n",
       " 'better': 1,\n",
       " 'excellent': 3,\n",
       " 'good': 1,\n",
       " 'hate': -1,\n",
       " 'hatred': -1,\n",
       " 'nasty': -1,\n",
       " 'nice': 1,\n",
       " 'supreme': 2,\n",
       " 'wonderful': 1}"
      ]
     },
     "execution_count": 5,
     "metadata": {},
     "output_type": "execute_result"
    }
   ],
   "source": [
    "senti_dict\n"
   ]
  },
  {
   "cell_type": "code",
   "execution_count": 6,
   "metadata": {},
   "outputs": [
    {
     "name": "stdout",
     "output_type": "stream",
     "text": [
      "\n",
      "\n",
      " Rose is beautiful .\n",
      " \n",
      "The  sentiment is : 1\n",
      "\n",
      "\n",
      " Place is nasty to stay.\n",
      " \n",
      "The  sentiment is : -1\n",
      "\n",
      "\n",
      " This is the beauty of this technique.\n",
      " \n",
      "The  sentiment is : 1\n",
      "\n",
      "\n",
      " Concept is explained beautifully in this book.\n",
      " \n",
      "The  sentiment is : 1\n",
      "\n",
      "\n",
      " He annoyed me.\n",
      " \n",
      "The  sentiment is : -1\n",
      "\n",
      "\n",
      " Its the supreme place to stay.\n",
      " \n",
      "The  sentiment is : 2\n",
      "\n",
      "\n",
      " I hate this place.\n",
      " \n",
      "The  sentiment is : -1\n",
      "\n",
      "\n",
      " Dont annoy the customer.\n",
      " \n",
      "The  sentiment is : -1\n",
      "\n",
      "\n",
      " He has given nasty comments about his stay.\n",
      " \n",
      "The  sentiment is : -1\n",
      "\n",
      "\n",
      " Dessert is awesome .\n",
      " \n",
      "The  sentiment is : 2\n",
      "\n",
      "\n",
      " Your gift is wonderful . \n",
      "The  sentiment is : 1\n"
     ]
    }
   ],
   "source": [
    "read_words=open('NLPdataEx5data_senti_analyze.txt')\n",
    "for line in read_words:\n",
    "    #print(line)\n",
    "    all_sum =0\n",
    "    for wo in line.split(' '):\n",
    "        wo.replace(\".\", \"\")\n",
    "        all_sum +=senti_dict.get(wo,0)\n",
    "    #print the sentiment score for each line\n",
    "    print(\"\\n\\n\",line, \"\\nThe  sentiment is : {}\".format(all_sum))\n",
    "   \n"
   ]
  },
  {
   "cell_type": "code",
   "execution_count": null,
   "metadata": {
    "collapsed": true
   },
   "outputs": [],
   "source": []
  },
  {
   "cell_type": "code",
   "execution_count": null,
   "metadata": {
    "collapsed": true
   },
   "outputs": [],
   "source": []
  }
 ],
 "metadata": {
  "kernelspec": {
   "display_name": "Python 3",
   "language": "python",
   "name": "python3"
  },
  "language_info": {
   "codemirror_mode": {
    "name": "ipython",
    "version": 3
   },
   "file_extension": ".py",
   "mimetype": "text/x-python",
   "name": "python",
   "nbconvert_exporter": "python",
   "pygments_lexer": "ipython3",
   "version": "3.6.1"
  }
 },
 "nbformat": 4,
 "nbformat_minor": 2
}
