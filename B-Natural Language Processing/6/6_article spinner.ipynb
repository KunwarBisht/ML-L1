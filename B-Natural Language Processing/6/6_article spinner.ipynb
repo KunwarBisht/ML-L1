{
 "cells": [
  {
   "cell_type": "markdown",
   "metadata": {},
   "source": [
    "Ex 6. Create an article spinner in python that spins a given text article and compare the effectiveness with original text. "
   ]
  },
  {
   "cell_type": "code",
   "execution_count": 1,
   "metadata": {
    "collapsed": true
   },
   "outputs": [],
   "source": [
    "import nltk\n",
    "import random\n",
    "import numpy as np\n",
    "from bs4 import BeautifulSoup\n"
   ]
  },
  {
   "cell_type": "code",
   "execution_count": 2,
   "metadata": {
    "collapsed": true
   },
   "outputs": [],
   "source": [
    "#Reading data from the text file\n",
    "data=open('NLPdataEx6article.txt' ,'r')\n",
    "#creating a trigrams to store the words (word1, word3) is the key, [ word2 ] are the values\n",
    "trigrams={}\n",
    "#read each line from the text file\n",
    "for line in data:\n",
    "    sent=line.lower()\n",
    "    tokens=nltk.tokenize.word_tokenize(sent)\n",
    "    for t in range(len(tokens)-2):\n",
    "        k=(tokens[t],tokens[t+2])\n",
    "        if k not in  trigrams:\n",
    "            trigrams[k]=[]\n",
    "        trigrams[k].append(tokens[t+1])"
   ]
  },
  {
   "cell_type": "code",
   "execution_count": 11,
   "metadata": {},
   "outputs": [
    {
     "data": {
      "text/plain": [
       "{('.', 'you'): {'if': 0.5, 'or': 0.5},\n",
       " ('as', 'as'): {'good': 0.5, 'well': 0.5},\n",
       " ('can', 'your'): {'promote': 0.5, 'use': 0.5},\n",
       " ('content', 'the'): {'.': 0.5, 'is': 0.5},\n",
       " ('of', 'content'): {'fresh': 0.5, 'your': 0.5},\n",
       " ('to', 'a'): {'cover': 0.5, 'maintaining': 0.5},\n",
       " ('to', 'your'): {'keep': 0.5, 'rank': 0.5},\n",
       " ('your', ','): {'site': 0.6666666666666666, 'visitors': 0.3333333333333333},\n",
       " ('your', 'or'): {'site': 0.5, 'website': 0.5}}"
      ]
     },
     "execution_count": 11,
     "metadata": {},
     "output_type": "execute_result"
    }
   ],
   "source": [
    "## turn each array of middle-words into a probability vector \n",
    "trigrams_prob={}\n",
    "for k,words in trigrams.items():\n",
    "    # create a dictionary of word -> count\n",
    "    if len(set(words)) >1:\n",
    "        d={}\n",
    "        n=0\n",
    "        for w in words:\n",
    "            if w not in d:\n",
    "                d[w]=0\n",
    "            d[w] +=1\n",
    "            n +=1\n",
    "        for w ,p in d.items():\n",
    "            d[w]= float(p)/n\n",
    "        trigrams_prob[k]=d\n",
    "trigrams_prob"
   ]
  },
  {
   "cell_type": "code",
   "execution_count": 14,
   "metadata": {
    "collapsed": true
   },
   "outputs": [],
   "source": [
    "def random_sample(d):\n",
    "    # choose a random sample from dictionary where values are the probabilities\n",
    "    r=random.random()\n",
    "    cumulative=0\n",
    "    for w,p in d.items():\n",
    "        cumulative +=p\n",
    "        if r < cumulative:\n",
    "            return w"
   ]
  },
  {
   "cell_type": "code",
   "execution_count": 18,
   "metadata": {
    "collapsed": true
   },
   "outputs": [],
   "source": [
    "#testing the model\n",
    "def test_spinner(para):\n",
    "    s=para.lower()\n",
    "    print(\"\\n Original:\",s)\n",
    "    tokens=nltk.tokenize.word_tokenize(s)\n",
    "    for i in range(len(tokens)-2):\n",
    "        if random.random()<0.3:\n",
    "            k=(tokens[i],tokens[i+2])\n",
    "            if k in trigrams_prob:\n",
    "                w=random_sample(trigrams_prob[k])\n",
    "                tokens[i+1]=w\n",
    "    print(\"Spun:\")\n",
    "    print (\" \".join(tokens).replace(\" .\", \".\").replace(\" '\", \"'\").replace(\" ,\", \",\").replace(\"$ \", \"$\").replace(\" !\", \"!\"))"
   ]
  },
  {
   "cell_type": "code",
   "execution_count": 22,
   "metadata": {},
   "outputs": [
    {
     "name": "stdout",
     "output_type": "stream",
     "text": [
      "\n",
      " Original:  engaging your visitors is vital to maintaining a long term website traffic. modern search engines such as google will monitor your traffic to make sure that visitors they are sending from their search results are staying for a long enough length of time as well as visiting multiple pages. both of these metrics make a big difference as google decides how to rank your site content. so, in other words, the visitor behavior the search engine observes will influence future rankings for your site, and the quality and quantity of your content will dictate visitor behavior.\n",
      "\n",
      "Spun:\n",
      "engaging your visitors is vital to maintaining a long term website traffic. modern search engines such as google will monitor your traffic to make sure that visitors they are sending from their search results are staying for a long enough length of time as well as visiting multiple pages. both of these metrics make a big difference as google decides how to rank your site content. so, in other words, the visitor behavior the search engine observes will influence future rankings for your site, and the quality and quantity of your content will dictate visitor behavior.\n",
      "\n",
      " Original: in the present world of cut-throat internet marketing, you need all the help you get. so why not cut down on the time needed to create new unique content? this is probably the most time consuming part of your website building process.\n",
      "\n",
      "Spun:\n",
      "in the present world of cut-throat internet marketing, you need all the help you get. so why not cut down on the time needed to create new unique content ? this is probably the most time consuming part of your website building process.\n",
      "\n",
      " Original: save time writing content so you can promote your site or business in other ways. use the time, money and energy you're saving to keep your site design looking as good as it can. or you can use your free time to relax and unwind, it's up to you. such is the beauty of this free if you are constantly updating with fresh textual content. the more unique, useful text you offer your visitors, the more people will stay on your site, and keep revisiting over the long haul. offering your visitors an unlimited flow of fresh content is the best long term strategy for securing 'sticky' traffic to your website or blog. if you are focusing repeatedly on related subject matter (which you should be doing if you are focusing on a limited niche) then you would do well from an seo perspective to cover a wide range of different ways to talk about that subject matter. \n",
      "Spun:\n",
      "save time writing content so you can promote your site or business in other ways. use the time, money and energy you're saving to rank your site design looking as well as it can. or you can use your free time to relax and unwind, it's up to you. such is the beauty of this free if you are constantly updating with fresh textual content. the more unique, useful text you offer your visitors, the more people will stay on your site, and keep revisiting over the long haul. offering your visitors an unlimited flow of fresh content is the best long term strategy for securing'sticky' traffic to your website or blog. if you are focusing repeatedly on related subject matter ( which you should be doing if you are focusing on a limited niche ) then you would do well from an seo perspective to cover a wide range of different ways to talk about that subject matter.\n"
     ]
    }
   ],
   "source": [
    "\n",
    "data=open('NLPdataEx6article.txt' ,'r')\n",
    "i=0\n",
    "for pr in data:\n",
    "    if len(pr) <=1 :\n",
    "        continue\n",
    "    \n",
    "    test_spinner(pr)\n",
    "\n",
    "##the spinner is not that much good  because the data is less so the words are not getting  change in the spinned article"
   ]
  },
  {
   "cell_type": "code",
   "execution_count": null,
   "metadata": {
    "collapsed": true
   },
   "outputs": [],
   "source": []
  }
 ],
 "metadata": {
  "kernelspec": {
   "display_name": "Python 3",
   "language": "python",
   "name": "python3"
  },
  "language_info": {
   "codemirror_mode": {
    "name": "ipython",
    "version": 3
   },
   "file_extension": ".py",
   "mimetype": "text/x-python",
   "name": "python",
   "nbconvert_exporter": "python",
   "pygments_lexer": "ipython3",
   "version": "3.6.1"
  }
 },
 "nbformat": 4,
 "nbformat_minor": 2
}
