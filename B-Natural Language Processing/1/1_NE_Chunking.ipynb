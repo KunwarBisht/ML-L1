{
 "cells": [
  {
   "cell_type": "markdown",
   "metadata": {},
   "source": [
    "Ex 1. Write a python script that reads the data_in.csv from every cell in column labeled\n",
    "as comment and perform sentence tokenization and redirects in to column of data_out.csv.\n",
    "Perform the NE Chunking on these sentences."
   ]
  },
  {
   "cell_type": "code",
   "execution_count": 6,
   "metadata": {
    "collapsed": true
   },
   "outputs": [],
   "source": [
    "#importing libarieries \n",
    "import csv\n",
    "import nltk\n",
    "from nltk.tokenize import word_tokenize ,sent_tokenize\n",
    " "
   ]
  },
  {
   "cell_type": "code",
   "execution_count": 8,
   "metadata": {
    "collapsed": true
   },
   "outputs": [],
   "source": [
    "tokens=[]\n",
    "\n",
    "#reading data from file\n",
    "\n",
    "data=open('data_in.txt')\n",
    "for line in data:\n",
    "    #sentence tokenization\n",
    "    tokenz=sent_tokenize(line)\n",
    "    tokens.append(tokenz)\n"
   ]
  },
  {
   "cell_type": "code",
   "execution_count": 9,
   "metadata": {},
   "outputs": [],
   "source": [
    "#write the content to the csv file\n",
    "with open(\"data_out.csv\",'w') as resultFile:\n",
    "    wr = csv.writer(resultFile, dialect='excel')\n",
    "    wr.writerows(tokens)\n",
    "\n",
    "# Perform the NE Chunking on these sentences.\n",
    "def process_content():\n",
    "    for i in tokens:\n",
    "        word=nltk.word_tokenize(str(i))\n",
    "        tagged=nltk.pos_tag(word)\n",
    "        namedEnt=nltk.ne_chunk(tagged , binary=True) #ninsry gibrd only nsme entity\n",
    "        namedEnt.draw()        \n"
   ]
  },
  {
   "cell_type": "code",
   "execution_count": 10,
   "metadata": {
    "collapsed": true
   },
   "outputs": [],
   "source": [
    "process_content()\n"
   ]
  },
  {
   "cell_type": "code",
   "execution_count": null,
   "metadata": {
    "collapsed": true
   },
   "outputs": [],
   "source": []
  }
 ],
 "metadata": {
  "kernelspec": {
   "display_name": "Python 3",
   "language": "python",
   "name": "python3"
  },
  "language_info": {
   "codemirror_mode": {
    "name": "ipython",
    "version": 3
   },
   "file_extension": ".py",
   "mimetype": "text/x-python",
   "name": "python",
   "nbconvert_exporter": "python",
   "pygments_lexer": "ipython3",
   "version": "3.6.1"
  }
 },
 "nbformat": 4,
 "nbformat_minor": 2
}
