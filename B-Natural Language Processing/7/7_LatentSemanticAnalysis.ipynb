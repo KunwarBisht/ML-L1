{
 "cells": [
  {
   "cell_type": "code",
   "execution_count": 74,
   "metadata": {
    "collapsed": true
   },
   "outputs": [],
   "source": [
    "\n",
    "import sklearn\n",
    "from sklearn.decomposition import TruncatedSVD\n",
    "from sklearn.feature_extraction.text import TfidfVectorizer\n",
    "from sklearn.feature_extraction.text import CountVectorizer\n",
    "from sklearn.preprocessing import Normalizer\n",
    "from sklearn import metrics\n",
    "from sklearn.cluster import KMeans, MiniBatchKMeans\n",
    "import pandas as pd\n",
    "import warnings\n",
    "# Suppress warnings from pandas library\n",
    "warnings.filterwarnings(\"ignore\", category=DeprecationWarning, module=\"pandas\", lineno=570)\n",
    "import numpy\n",
    "\n"
   ]
  },
  {
   "cell_type": "code",
   "execution_count": 104,
   "metadata": {},
   "outputs": [],
   "source": [
    "\n",
    "all_files=['NLPdataEX7_doc1.txt','NLPdataEX7_doc2.txt','NLPdataEX7_doc3.txt','NLPdataEX7_doc4.txt','NLPdataEX7_doc5.txt','NLPdataEX7_doc6.txt','NLPdataEX7_doc7.txt','NLPdataEX7_doc8.txt']\n",
    "column_names=['NLPdataEX7_doc1','NLPdataEX7_doc2','NLPdataEX7_doc3','NLPdataEX7_doc4','NLPdataEX7_doc5','NLPdataEX7_doc6','NLPdataEX7_doc7','NLPdataEX7_doc8']\n",
    "words=[]\n",
    "for file in all_files:\n",
    "    words += open(file) \n"
   ]
  },
  {
   "cell_type": "code",
   "execution_count": 105,
   "metadata": {},
   "outputs": [
    {
     "data": {
      "text/plain": [
       "CountVectorizer(analyzer='word', binary=False, decode_error='strict',\n",
       "        dtype=<class 'numpy.int64'>, encoding='utf-8', input='content',\n",
       "        lowercase=True, max_df=1.0, max_features=None, min_df=2,\n",
       "        ngram_range=(1, 1), preprocessor=None, stop_words='english',\n",
       "        strip_accents=None, token_pattern='(?u)\\\\b\\\\w\\\\w+\\\\b',\n",
       "        tokenizer=None, vocabulary=None)"
      ]
     },
     "execution_count": 105,
     "metadata": {},
     "output_type": "execute_result"
    }
   ],
   "source": [
    "#taken min_df =2 because 1 will create 336 columns of features\n",
    "vectorizer = CountVectorizer(min_df = 2, stop_words = 'english')\n",
    "vectorizer"
   ]
  },
  {
   "cell_type": "code",
   "execution_count": 118,
   "metadata": {},
   "outputs": [
    {
     "data": {
      "text/plain": [
       "CountVectorizer(analyzer='word', binary=False, decode_error='strict',\n",
       "        dtype=<class 'numpy.int64'>, encoding='utf-8', input='content',\n",
       "        lowercase=True, max_df=1.0, max_features=None, min_df=2,\n",
       "        ngram_range=(1, 1), preprocessor=None, stop_words='english',\n",
       "        strip_accents=None, token_pattern='(?u)\\\\b\\\\w\\\\w+\\\\b',\n",
       "        tokenizer=None, vocabulary=None)"
      ]
     },
     "execution_count": 118,
     "metadata": {},
     "output_type": "execute_result"
    }
   ],
   "source": [
    "\n",
    "vectorizer = CountVectorizer(min_df = 2, stop_words = 'english')\n",
    "vectorizer\n"
   ]
  },
  {
   "cell_type": "code",
   "execution_count": 119,
   "metadata": {},
   "outputs": [
    {
     "data": {
      "text/plain": [
       "<8x21 sparse matrix of type '<class 'numpy.int64'>'\n",
       "\twith 44 stored elements in Compressed Sparse Row format>"
      ]
     },
     "execution_count": 119,
     "metadata": {},
     "output_type": "execute_result"
    }
   ],
   "source": [
    "dtm = vectorizer.fit_transform(words)\n",
    "\n",
    "dtm"
   ]
  },
  {
   "cell_type": "code",
   "execution_count": 120,
   "metadata": {},
   "outputs": [
    {
     "name": "stdout",
     "output_type": "stream",
     "text": [
      "                 beneath  cave  comfortably  football  high  house  known  \\\n",
      "NLPdataEX7_doc1        0     0            0         2     2      0      0   \n",
      "NLPdataEX7_doc2        0     0            0         0     0      0      0   \n",
      "NLPdataEX7_doc3        0     0            0         1     1      0      0   \n",
      "NLPdataEX7_doc4        2     1            1         0     0      0      0   \n",
      "NLPdataEX7_doc5        2     1            1         0     0      1      1   \n",
      "NLPdataEX7_doc6        0     0            0         0     0      1      1   \n",
      "NLPdataEX7_doc7        0     0            0         0     0      0      1   \n",
      "NLPdataEX7_doc8        0     0            0         0     0      0      0   \n",
      "\n",
      "                 lava  let  lunar  ...    moon  players  provide  question  \\\n",
      "NLPdataEX7_doc1     0    0      0  ...       0        1        0         0   \n",
      "NLPdataEX7_doc2     0    0      0  ...       0        0        0         0   \n",
      "NLPdataEX7_doc3     0    1      0  ...       0        3        1         0   \n",
      "NLPdataEX7_doc4     1    0      3  ...       4        0        0         1   \n",
      "NLPdataEX7_doc5     6    0      1  ...       3        0        0         0   \n",
      "NLPdataEX7_doc6     0    0      0  ...       0        0        0         0   \n",
      "NLPdataEX7_doc7     0    0      0  ...       0        0        0         0   \n",
      "NLPdataEX7_doc8     0    1      0  ...       0        0        1         1   \n",
      "\n",
      "                 reason  red  said  schools  surface  tubes  \n",
      "NLPdataEX7_doc1       0    0     0        1        0      0  \n",
      "NLPdataEX7_doc2       0    0     0        0        0      0  \n",
      "NLPdataEX7_doc3       1    1     0        1        0      0  \n",
      "NLPdataEX7_doc4       0    1     0        0        2      1  \n",
      "NLPdataEX7_doc5       0    0     0        0        4      3  \n",
      "NLPdataEX7_doc6       0    0     1        0        0      0  \n",
      "NLPdataEX7_doc7       0    0     1        0        0      0  \n",
      "NLPdataEX7_doc8       1    0     0        0        0      0  \n",
      "\n",
      "[8 rows x 21 columns]\n"
     ]
    }
   ],
   "source": [
    "print(pd.DataFrame(dtm.toarray(),index=column_names,columns=vectorizer.get_feature_names()))"
   ]
  },
  {
   "cell_type": "code",
   "execution_count": 121,
   "metadata": {},
   "outputs": [
    {
     "data": {
      "text/plain": [
       "['beneath',\n",
       " 'cave',\n",
       " 'comfortably',\n",
       " 'football',\n",
       " 'high',\n",
       " 'house',\n",
       " 'known',\n",
       " 'lava',\n",
       " 'let',\n",
       " 'lunar',\n",
       " 'make',\n",
       " 'moon',\n",
       " 'players',\n",
       " 'provide',\n",
       " 'question',\n",
       " 'reason',\n",
       " 'red',\n",
       " 'said',\n",
       " 'schools',\n",
       " 'surface',\n",
       " 'tubes']"
      ]
     },
     "execution_count": 121,
     "metadata": {},
     "output_type": "execute_result"
    }
   ],
   "source": [
    "# Get words that correspond to each column\n",
    "vectorizer.get_feature_names()\n"
   ]
  },
  {
   "cell_type": "code",
   "execution_count": 123,
   "metadata": {
    "collapsed": true
   },
   "outputs": [],
   "source": [
    "\n",
    "lsa = TruncatedSVD(4, algorithm = 'randomized') \n",
    "dtm_lsa = lsa.fit_transform(dtm)\n",
    "dtm_lsa = Normalizer(copy=False).fit_transform(dtm_lsa)\n"
   ]
  },
  {
   "cell_type": "code",
   "execution_count": 124,
   "metadata": {},
   "outputs": [
    {
     "name": "stdout",
     "output_type": "stream",
     "text": [
      "[[ 0.00192955  0.85445069 -0.22255431 -0.46944634]\n",
      " [ 0.60024907  0.61553724  0.13476052 -0.49259981]\n",
      " [ 0.01682103  0.97535557 -0.14581576  0.16473106]\n",
      " [ 0.83368589  0.11425902  0.53851155 -0.04379517]\n",
      " [ 0.97071143 -0.05418354 -0.23368244  0.01326606]\n",
      " [ 0.26732517 -0.06883399 -0.43233991  0.85841793]\n",
      " [ 0.1737214   0.05690165  0.10265322  0.97777574]\n",
      " [ 0.058482    0.39436797  0.22736048  0.88845989]]\n"
     ]
    }
   ],
   "source": [
    "print(dtm_lsa)"
   ]
  },
  {
   "cell_type": "code",
   "execution_count": 125,
   "metadata": {},
   "outputs": [
    {
     "name": "stdout",
     "output_type": "stream",
     "text": [
      "              beneath      cave  comfortably  football      high     house  \\\n",
      "component_1  0.271773  0.135887     0.135887  0.000752  0.000752  0.086077   \n",
      "component_2  0.021815  0.010907     0.010907  0.399806  0.399806 -0.023867   \n",
      "component_3  0.156831  0.078415     0.078415 -0.110898 -0.110898 -0.139506   \n",
      "component_4 -0.050591 -0.025295    -0.025295 -0.337606 -0.337606  0.109033   \n",
      "\n",
      "                known      lava       let     lunar    ...         moon  \\\n",
      "component_1  0.087492  0.557633  0.001734  0.238961    ...     0.459197   \n",
      "component_2 -0.021721 -0.098123  0.206184  0.076335    ...     0.065436   \n",
      "component_3 -0.134458 -0.534738 -0.007850  0.480508    ...     0.436292   \n",
      "component_4  0.238584  0.068488  0.372476 -0.113400    ...    -0.119938   \n",
      "\n",
      "              players   provide  question    reason       red      said  \\\n",
      "component_1  0.001977  0.001734  0.052631  0.001734  0.052178  0.003142   \n",
      "component_2  0.629951  0.206184  0.066878  0.206184  0.204733  0.000085   \n",
      "component_3 -0.139283 -0.007850  0.226730 -0.007850  0.167512 -0.011827   \n",
      "component_4  0.086369  0.372476  0.226355  0.372476  0.058017  0.219828   \n",
      "\n",
      "              schools   surface     tubes  \n",
      "component_1  0.000696  0.440472  0.304585  \n",
      "component_2  0.285913 -0.021797 -0.032705  \n",
      "component_3 -0.072216 -0.088431 -0.166846  \n",
      "component_4 -0.117769 -0.013078  0.012218  \n",
      "\n",
      "[4 rows x 21 columns]\n",
      "                 component_1  component_2  component_3  component_4\n",
      "NLPdataEX7_doc1     0.001930     0.854451    -0.222554    -0.469446\n",
      "NLPdataEX7_doc2     0.600249     0.615537     0.134761    -0.492600\n",
      "NLPdataEX7_doc3     0.016821     0.975356    -0.145816     0.164731\n",
      "NLPdataEX7_doc4     0.833686     0.114259     0.538512    -0.043795\n",
      "NLPdataEX7_doc5     0.970711    -0.054184    -0.233682     0.013266\n",
      "NLPdataEX7_doc6     0.267325    -0.068834    -0.432340     0.858418\n",
      "NLPdataEX7_doc7     0.173721     0.056902     0.102653     0.977776\n",
      "NLPdataEX7_doc8     0.058482     0.394368     0.227360     0.888460\n"
     ]
    }
   ],
   "source": [
    "print(pd.DataFrame(lsa.components_,index = [\"component_1\",\"component_2\",'component_3','component_4'],columns = vectorizer.get_feature_names()))\n",
    "print(pd.DataFrame(dtm_lsa, index=column_names, columns = [\"component_1\",\"component_2\",'component_3','component_4']))\n",
    "\n",
    "\n"
   ]
  },
  {
   "cell_type": "code",
   "execution_count": 126,
   "metadata": {},
   "outputs": [
    {
     "name": "stdout",
     "output_type": "stream",
     "text": [
      "[0.0019295536978564947, 0.60024906594635274, 0.016821031970259571, 0.83368589181255248, 0.97071142677879318, 0.26732517093410663, 0.17372140049373574, 0.058481996594124917] [0.85445069172892107, 0.6155372352346159, 0.97535557404703155, 0.11425901619242129, -0.054183544776516712, -0.068833989751084054, 0.056901654278651612, 0.39436797205098062]\n"
     ]
    }
   ],
   "source": [
    "xs = [w[0] for w in dtm_lsa]\n",
    "ys = [w[1] for w in dtm_lsa]\n",
    "print (xs, ys) "
   ]
  },
  {
   "cell_type": "code",
   "execution_count": 127,
   "metadata": {},
   "outputs": [
    {
     "name": "stdout",
     "output_type": "stream",
     "text": [
      "                 NLPdataEX7_doc1  NLPdataEX7_doc2  NLPdataEX7_doc3  \\\n",
      "NLPdataEX7_doc1         1.000000         0.728362         0.788545   \n",
      "NLPdataEX7_doc2         0.728362         1.000000         0.509668   \n",
      "NLPdataEX7_doc3         0.788545         0.509668         1.000000   \n",
      "NLPdataEX7_doc4        -0.000051         0.664893         0.039729   \n",
      "NLPdataEX7_doc5         0.001355         0.511291        -0.000260   \n",
      "NLPdataEX7_doc6        -0.365061        -0.363027         0.141809   \n",
      "NLPdataEX7_doc7        -0.432904        -0.328517         0.204523   \n",
      "NLPdataEX7_doc8        -0.130603        -0.129164         0.498837   \n",
      "\n",
      "                 NLPdataEX7_doc4  NLPdataEX7_doc5  NLPdataEX7_doc6  \\\n",
      "NLPdataEX7_doc1        -0.000051         0.001355        -0.365061   \n",
      "NLPdataEX7_doc2         0.664893         0.511291        -0.363027   \n",
      "NLPdataEX7_doc3         0.039729        -0.000260         0.141809   \n",
      "NLPdataEX7_doc4         1.000000         0.676656        -0.055414   \n",
      "NLPdataEX7_doc5         0.676656         1.000000         0.375643   \n",
      "NLPdataEX7_doc6        -0.055414         0.375643         1.000000   \n",
      "NLPdataEX7_doc7         0.163789         0.154533         0.837482   \n",
      "NLPdataEX7_doc8         0.177342        -0.005943         0.652861   \n",
      "\n",
      "                 NLPdataEX7_doc7  NLPdataEX7_doc8  \n",
      "NLPdataEX7_doc1        -0.432904        -0.130603  \n",
      "NLPdataEX7_doc2        -0.328517        -0.129164  \n",
      "NLPdataEX7_doc3         0.204523         0.498837  \n",
      "NLPdataEX7_doc4         0.163789         0.177342  \n",
      "NLPdataEX7_doc5         0.154533        -0.005943  \n",
      "NLPdataEX7_doc6         0.837482         0.652861  \n",
      "NLPdataEX7_doc7         1.000000         0.924654  \n",
      "NLPdataEX7_doc8         0.924654         1.000000  \n"
     ]
    }
   ],
   "source": [
    "\n",
    "# Compute document similarity using LSA components\n",
    "similarity = np.asarray(numpy.asmatrix(dtm_lsa) * numpy.asmatrix(dtm_lsa).T)\n",
    "print (pd.DataFrame(similarity,index=column_names, columns=column_names).head(10))\n"
   ]
  },
  {
   "cell_type": "code",
   "execution_count": 128,
   "metadata": {
    "collapsed": true
   },
   "outputs": [],
   "source": [
    "\n",
    "#%pylab inline\n",
    "import pylab\n",
    "pylab.interactive(True)"
   ]
  },
  {
   "cell_type": "code",
   "execution_count": 129,
   "metadata": {},
   "outputs": [
    {
     "data": {
      "image/png": "[encoded data removed]",
      "text/plain": [
       "<matplotlib.figure.Figure at 0x1de1458e320>"
      ]
     },
     "metadata": {},
     "output_type": "display_data"
    }
   ],
   "source": [
    "import matplotlib.pyplot as plt\n",
    "plt.figure(1)\n",
    "plt.scatter(xs,ys)\n",
    "plt.xlabel('First principal component')\n",
    "plt.ylabel('Second principal component')\n",
    "plt.title('Plot of points against LSA principal components')\n",
    "plt.show(1)\n"
   ]
  },
  {
   "cell_type": "code",
   "execution_count": 130,
   "metadata": {},
   "outputs": [
    {
     "data": {
      "image/png": "[encoded data removed]",
      "text/plain": [
       "<matplotlib.figure.Figure at 0x1de145b8e48>"
      ]
     },
     "metadata": {},
     "output_type": "display_data"
    }
   ],
   "source": [
    "plt.figure(2)\n",
    "ax = plt.gca()\n",
    "ax.quiver(0,0,xs,ys,angles='xy',scale_units='xy',scale=1, linewidth = .01)\n",
    "ax.set_xlim([-1,1])\n",
    "ax.set_ylim([-1,1])\n",
    "plt.xlabel('First principal component')\n",
    "plt.ylabel('Second principal component')\n",
    "plt.title('Plot of points against LSA principal components')\n",
    "plt.show(2)\n"
   ]
  },
  {
   "cell_type": "code",
   "execution_count": null,
   "metadata": {
    "collapsed": true
   },
   "outputs": [],
   "source": []
  },
  {
   "cell_type": "code",
   "execution_count": null,
   "metadata": {
    "collapsed": true
   },
   "outputs": [],
   "source": []
  }
 ],
 "metadata": {
  "kernelspec": {
   "display_name": "Python 3",
   "language": "python",
   "name": "python3"
  },
  "language_info": {
   "codemirror_mode": {
    "name": "ipython",
    "version": 3
   },
   "file_extension": ".py",
   "mimetype": "text/x-python",
   "name": "python",
   "nbconvert_exporter": "python",
   "pygments_lexer": "ipython3",
   "version": "3.6.1"
  }
 },
 "nbformat": 4,
 "nbformat_minor": 2
}
